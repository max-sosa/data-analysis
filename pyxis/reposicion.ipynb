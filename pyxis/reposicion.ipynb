{
 "cells": [
  {
   "attachments": {},
   "cell_type": "markdown",
   "metadata": {},
   "source": [
    "<h1>REPOSICION DE PYXIS</h1>"
   ]
  },
  {
   "cell_type": "code",
   "execution_count": null,
   "metadata": {},
   "outputs": [],
   "source": [
    "import pandas as pd\n",
    "import numpy as np"
   ]
  },
  {
   "cell_type": "code",
   "execution_count": null,
   "metadata": {},
   "outputs": [],
   "source": [
    "uti = pd.read_csv('uti.csv')\n",
    "emergencia = pd.read_csv('emergencia.csv')"
   ]
  },
  {
   "attachments": {},
   "cell_type": "markdown",
   "metadata": {},
   "source": [
    "<h3 style=\"color:red\">REPOSICION PYXIS TERAPIA INTENSIVA</h3>"
   ]
  },
  {
   "cell_type": "code",
   "execution_count": null,
   "metadata": {},
   "outputs": [],
   "source": [
    "condicion = [uti['Max']*0.65>=uti['CurrentAmount']]\n",
    "opciones = ['SI']\n",
    "uti['Reponer'] = np.select(condicion, opciones, 'NO')\n",
    "uti[['MedID','MedDescription','Reponer','RefillAmount']].loc[(uti['Reponer'] == 'SI') & (uti['PickArea'] == '01 FARMACIA CENTRAL')]"
   ]
  },
  {
   "cell_type": "code",
   "execution_count": null,
   "metadata": {},
   "outputs": [],
   "source": [
    "uti.drop(uti[uti['PickArea']=='ESTERILIZACION'].index, inplace=True)\n",
    "uti.drop(uti[uti['Reponer']=='NO'].index, inplace=True)"
   ]
  },
  {
   "cell_type": "code",
   "execution_count": null,
   "metadata": {},
   "outputs": [],
   "source": [
    "uti[['MedID','MedDescription','RefillAmount']].to_excel('repo/repouti.xlsx', sheet_name='uti')"
   ]
  },
  {
   "attachments": {},
   "cell_type": "markdown",
   "metadata": {},
   "source": [
    "<h3 style=\"color:blue\">REPOSICION PYXIS EMERGENCIAS</h3>"
   ]
  },
  {
   "cell_type": "code",
   "execution_count": null,
   "metadata": {},
   "outputs": [],
   "source": [
    "condicion = [emergencia['Max']*0.65>=emergencia['CurrentAmount']]\n",
    "opciones = ['SI']\n",
    "emergencia['Reponer'] = np.select(condicion, opciones, 'NO')\n",
    "emergencia[['MedID','MedDescription','Reponer','RefillAmount']].loc[(emergencia['Reponer'] == 'SI') & (emergencia['PickArea'] == '01 FARMACIA CENTRAL')]"
   ]
  },
  {
   "cell_type": "code",
   "execution_count": null,
   "metadata": {},
   "outputs": [],
   "source": [
    "emergencia.drop(emergencia[emergencia['PickArea']=='ESTERILIZACION'].index, inplace=True)\n",
    "emergencia.drop(emergencia[emergencia['Reponer']=='NO'].index, inplace=True)"
   ]
  },
  {
   "cell_type": "code",
   "execution_count": null,
   "metadata": {},
   "outputs": [],
   "source": [
    "emergencia[['MedID','MedDescription','RefillAmount']].to_excel('repo/repoeme.xlsx', sheet_name='uti')"
   ]
  }
 ],
 "metadata": {
  "kernelspec": {
   "display_name": "Python 3",
   "language": "python",
   "name": "python3"
  },
  "language_info": {
   "codemirror_mode": {
    "name": "ipython",
    "version": 3
   },
   "file_extension": ".py",
   "mimetype": "text/x-python",
   "name": "python",
   "nbconvert_exporter": "python",
   "pygments_lexer": "ipython3",
   "version": "3.10.5"
  },
  "orig_nbformat": 4,
  "vscode": {
   "interpreter": {
    "hash": "aee8b7b246df8f9039afb4144a1f6fd8d2ca17a180786b69acc140d282b71a49"
   }
  }
 },
 "nbformat": 4,
 "nbformat_minor": 2
}
